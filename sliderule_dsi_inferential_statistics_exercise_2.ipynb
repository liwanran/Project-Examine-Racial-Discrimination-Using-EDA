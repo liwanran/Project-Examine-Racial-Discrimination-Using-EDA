{
 "cells": [
  {
   "cell_type": "markdown",
   "metadata": {},
   "source": [
    "# Examining Racial Discrimination in the US Job Market\n",
    "\n",
    "### Background\n",
    "Racial discrimination continues to be pervasive in cultures throughout the world. Researchers examined the level of racial discrimination in the United States labor market by randomly assigning identical résumés to black-sounding or white-sounding names and observing the impact on requests for interviews from employers.\n",
    "\n",
    "### Data\n",
    "In the dataset provided, each row represents a resume. The 'race' column has two values, 'b' and 'w', indicating black-sounding and white-sounding. The column 'call' has two values, 1 and 0, indicating whether the resume received a call from employers or not.\n",
    "\n",
    "Note that the 'b' and 'w' values in race are assigned randomly to the resumes when presented to the employer."
   ]
  },
  {
   "cell_type": "markdown",
   "metadata": {},
   "source": [
    "### Exercises\n",
    "You will perform a statistical analysis to establish whether race has a significant impact on the rate of callbacks for resumes.\n",
    "\n",
    "Answer the following questions **in this notebook below and submit to your Github account**. \n",
    "\n",
    "   1. What test is appropriate for this problem? Does CLT apply?\n",
    "   2. What are the null and alternate hypotheses?\n",
    "   3. Compute margin of error, confidence interval, and p-value. Try using both the bootstrapping and the frequentist statistical approaches.\n",
    "   4. Write a story describing the statistical significance in the context or the original problem.\n",
    "   5. Does your analysis mean that race/name is the most important factor in callback success? Why or why not? If not, how would you amend your analysis?\n",
    "\n",
    "You can include written notes in notebook cells using Markdown: \n",
    "   - In the control panel at the top, choose Cell > Cell Type > Markdown\n",
    "   - Markdown syntax: http://nestacms.com/docs/creating-content/markdown-cheat-sheet\n",
    "\n",
    "#### Resources\n",
    "+ Experiment information and data source: http://www.povertyactionlab.org/evaluation/discrimination-job-market-united-states\n",
    "+ Scipy statistical methods: http://docs.scipy.org/doc/scipy/reference/stats.html \n",
    "+ Markdown syntax: http://nestacms.com/docs/creating-content/markdown-cheat-sheet\n",
    "+ Formulas for the Bernoulli distribution: https://en.wikipedia.org/wiki/Bernoulli_distribution"
   ]
  },
  {
   "cell_type": "code",
   "execution_count": 21,
   "metadata": {},
   "outputs": [],
   "source": [
    "import pandas as pd\n",
    "import numpy as np\n",
    "from scipy import stats"
   ]
  },
  {
   "cell_type": "code",
   "execution_count": 22,
   "metadata": {},
   "outputs": [],
   "source": [
    "data = pd.io.stata.read_stata('data/us_job_market_discrimination.dta')"
   ]
  },
  {
   "cell_type": "code",
   "execution_count": 23,
   "metadata": {},
   "outputs": [
    {
     "data": {
      "text/plain": [
       "235.0"
      ]
     },
     "execution_count": 23,
     "metadata": {},
     "output_type": "execute_result"
    }
   ],
   "source": [
    "# number of callbacks for black-sounding names\n",
    "sum(data[data.race=='w'].call)"
   ]
  },
  {
   "cell_type": "code",
   "execution_count": 24,
   "metadata": {},
   "outputs": [
    {
     "data": {
      "text/html": [
       "<div>\n",
       "<style scoped>\n",
       "    .dataframe tbody tr th:only-of-type {\n",
       "        vertical-align: middle;\n",
       "    }\n",
       "\n",
       "    .dataframe tbody tr th {\n",
       "        vertical-align: top;\n",
       "    }\n",
       "\n",
       "    .dataframe thead th {\n",
       "        text-align: right;\n",
       "    }\n",
       "</style>\n",
       "<table border=\"1\" class=\"dataframe\">\n",
       "  <thead>\n",
       "    <tr style=\"text-align: right;\">\n",
       "      <th></th>\n",
       "      <th>id</th>\n",
       "      <th>ad</th>\n",
       "      <th>education</th>\n",
       "      <th>ofjobs</th>\n",
       "      <th>yearsexp</th>\n",
       "      <th>honors</th>\n",
       "      <th>volunteer</th>\n",
       "      <th>military</th>\n",
       "      <th>empholes</th>\n",
       "      <th>occupspecific</th>\n",
       "      <th>...</th>\n",
       "      <th>compreq</th>\n",
       "      <th>orgreq</th>\n",
       "      <th>manuf</th>\n",
       "      <th>transcom</th>\n",
       "      <th>bankreal</th>\n",
       "      <th>trade</th>\n",
       "      <th>busservice</th>\n",
       "      <th>othservice</th>\n",
       "      <th>missind</th>\n",
       "      <th>ownership</th>\n",
       "    </tr>\n",
       "  </thead>\n",
       "  <tbody>\n",
       "    <tr>\n",
       "      <th>0</th>\n",
       "      <td>b</td>\n",
       "      <td>1</td>\n",
       "      <td>4</td>\n",
       "      <td>2</td>\n",
       "      <td>6</td>\n",
       "      <td>0</td>\n",
       "      <td>0</td>\n",
       "      <td>0</td>\n",
       "      <td>1</td>\n",
       "      <td>17</td>\n",
       "      <td>...</td>\n",
       "      <td>1.0</td>\n",
       "      <td>0.0</td>\n",
       "      <td>1.0</td>\n",
       "      <td>0.0</td>\n",
       "      <td>0.0</td>\n",
       "      <td>0.0</td>\n",
       "      <td>0.0</td>\n",
       "      <td>0.0</td>\n",
       "      <td>0.0</td>\n",
       "      <td></td>\n",
       "    </tr>\n",
       "    <tr>\n",
       "      <th>1</th>\n",
       "      <td>b</td>\n",
       "      <td>1</td>\n",
       "      <td>3</td>\n",
       "      <td>3</td>\n",
       "      <td>6</td>\n",
       "      <td>0</td>\n",
       "      <td>1</td>\n",
       "      <td>1</td>\n",
       "      <td>0</td>\n",
       "      <td>316</td>\n",
       "      <td>...</td>\n",
       "      <td>1.0</td>\n",
       "      <td>0.0</td>\n",
       "      <td>1.0</td>\n",
       "      <td>0.0</td>\n",
       "      <td>0.0</td>\n",
       "      <td>0.0</td>\n",
       "      <td>0.0</td>\n",
       "      <td>0.0</td>\n",
       "      <td>0.0</td>\n",
       "      <td></td>\n",
       "    </tr>\n",
       "    <tr>\n",
       "      <th>2</th>\n",
       "      <td>b</td>\n",
       "      <td>1</td>\n",
       "      <td>4</td>\n",
       "      <td>1</td>\n",
       "      <td>6</td>\n",
       "      <td>0</td>\n",
       "      <td>0</td>\n",
       "      <td>0</td>\n",
       "      <td>0</td>\n",
       "      <td>19</td>\n",
       "      <td>...</td>\n",
       "      <td>1.0</td>\n",
       "      <td>0.0</td>\n",
       "      <td>1.0</td>\n",
       "      <td>0.0</td>\n",
       "      <td>0.0</td>\n",
       "      <td>0.0</td>\n",
       "      <td>0.0</td>\n",
       "      <td>0.0</td>\n",
       "      <td>0.0</td>\n",
       "      <td></td>\n",
       "    </tr>\n",
       "    <tr>\n",
       "      <th>3</th>\n",
       "      <td>b</td>\n",
       "      <td>1</td>\n",
       "      <td>3</td>\n",
       "      <td>4</td>\n",
       "      <td>6</td>\n",
       "      <td>0</td>\n",
       "      <td>1</td>\n",
       "      <td>0</td>\n",
       "      <td>1</td>\n",
       "      <td>313</td>\n",
       "      <td>...</td>\n",
       "      <td>1.0</td>\n",
       "      <td>0.0</td>\n",
       "      <td>1.0</td>\n",
       "      <td>0.0</td>\n",
       "      <td>0.0</td>\n",
       "      <td>0.0</td>\n",
       "      <td>0.0</td>\n",
       "      <td>0.0</td>\n",
       "      <td>0.0</td>\n",
       "      <td></td>\n",
       "    </tr>\n",
       "    <tr>\n",
       "      <th>4</th>\n",
       "      <td>b</td>\n",
       "      <td>1</td>\n",
       "      <td>3</td>\n",
       "      <td>3</td>\n",
       "      <td>22</td>\n",
       "      <td>0</td>\n",
       "      <td>0</td>\n",
       "      <td>0</td>\n",
       "      <td>0</td>\n",
       "      <td>313</td>\n",
       "      <td>...</td>\n",
       "      <td>1.0</td>\n",
       "      <td>1.0</td>\n",
       "      <td>0.0</td>\n",
       "      <td>0.0</td>\n",
       "      <td>0.0</td>\n",
       "      <td>0.0</td>\n",
       "      <td>0.0</td>\n",
       "      <td>1.0</td>\n",
       "      <td>0.0</td>\n",
       "      <td>Nonprofit</td>\n",
       "    </tr>\n",
       "  </tbody>\n",
       "</table>\n",
       "<p>5 rows × 65 columns</p>\n",
       "</div>"
      ],
      "text/plain": [
       "  id ad  education  ofjobs  yearsexp  honors  volunteer  military  empholes  \\\n",
       "0  b  1          4       2         6       0          0         0         1   \n",
       "1  b  1          3       3         6       0          1         1         0   \n",
       "2  b  1          4       1         6       0          0         0         0   \n",
       "3  b  1          3       4         6       0          1         0         1   \n",
       "4  b  1          3       3        22       0          0         0         0   \n",
       "\n",
       "   occupspecific  ...  compreq  orgreq  manuf  transcom  bankreal trade  \\\n",
       "0             17  ...      1.0     0.0    1.0       0.0       0.0   0.0   \n",
       "1            316  ...      1.0     0.0    1.0       0.0       0.0   0.0   \n",
       "2             19  ...      1.0     0.0    1.0       0.0       0.0   0.0   \n",
       "3            313  ...      1.0     0.0    1.0       0.0       0.0   0.0   \n",
       "4            313  ...      1.0     1.0    0.0       0.0       0.0   0.0   \n",
       "\n",
       "  busservice othservice  missind  ownership  \n",
       "0        0.0        0.0      0.0             \n",
       "1        0.0        0.0      0.0             \n",
       "2        0.0        0.0      0.0             \n",
       "3        0.0        0.0      0.0             \n",
       "4        0.0        1.0      0.0  Nonprofit  \n",
       "\n",
       "[5 rows x 65 columns]"
      ]
     },
     "execution_count": 24,
     "metadata": {},
     "output_type": "execute_result"
    }
   ],
   "source": [
    "data.head()"
   ]
  },
  {
   "cell_type": "markdown",
   "metadata": {
    "collapsed": true
   },
   "source": [
    "<div class=\"span5 alert alert-success\">\n",
    "<p>Your answers to Q1 and Q2 here</p>\n",
    "</div>\n",
    "1. What test is appropriate for this problem? Does CLT apply?\n",
    "<br>2. What are the null and alternate hypotheses?"
   ]
  },
  {
   "cell_type": "code",
   "execution_count": 25,
   "metadata": {},
   "outputs": [
    {
     "data": {
      "text/plain": [
       "(4870, 65)"
      ]
     },
     "execution_count": 25,
     "metadata": {},
     "output_type": "execute_result"
    }
   ],
   "source": [
    "data.shape"
   ]
  },
  {
   "cell_type": "code",
   "execution_count": 26,
   "metadata": {},
   "outputs": [],
   "source": [
    "w = data[data.race=='w']\n",
    "b = data[data.race=='b']"
   ]
  },
  {
   "cell_type": "code",
   "execution_count": 27,
   "metadata": {},
   "outputs": [
    {
     "data": {
      "text/plain": [
       "(2435, 65)"
      ]
     },
     "execution_count": 27,
     "metadata": {},
     "output_type": "execute_result"
    }
   ],
   "source": [
    "w.shape"
   ]
  },
  {
   "cell_type": "code",
   "execution_count": 28,
   "metadata": {},
   "outputs": [
    {
     "data": {
      "text/plain": [
       "(2435, 65)"
      ]
     },
     "execution_count": 28,
     "metadata": {},
     "output_type": "execute_result"
    }
   ],
   "source": [
    "b.shape"
   ]
  },
  {
   "cell_type": "markdown",
   "metadata": {},
   "source": [
    "CLT applies as the sample size is large enough for resumes for both groups (white-sounding & black-sounding names), way larger than 30. \n",
    "<br>$H_0$: There is no difference in the number of callbacks between the 2 groups.\n",
    "<br>$H_A$: There is difference in the number of callbacks between the 2 groups."
   ]
  },
  {
   "cell_type": "code",
   "execution_count": 29,
   "metadata": {
    "scrolled": true
   },
   "outputs": [
    {
     "data": {
      "text/plain": [
       "Index(['id', 'ad', 'education', 'ofjobs', 'yearsexp', 'honors', 'volunteer',\n",
       "       'military', 'empholes', 'occupspecific', 'occupbroad', 'workinschool',\n",
       "       'email', 'computerskills', 'specialskills', 'firstname', 'sex', 'race',\n",
       "       'h', 'l', 'call', 'city', 'kind', 'adid', 'fracblack', 'fracwhite',\n",
       "       'lmedhhinc', 'fracdropout', 'fraccolp', 'linc', 'col', 'expminreq',\n",
       "       'schoolreq', 'eoe', 'parent_sales', 'parent_emp', 'branch_sales',\n",
       "       'branch_emp', 'fed', 'fracblack_empzip', 'fracwhite_empzip',\n",
       "       'lmedhhinc_empzip', 'fracdropout_empzip', 'fraccolp_empzip',\n",
       "       'linc_empzip', 'manager', 'supervisor', 'secretary', 'offsupport',\n",
       "       'salesrep', 'retailsales', 'req', 'expreq', 'comreq', 'educreq',\n",
       "       'compreq', 'orgreq', 'manuf', 'transcom', 'bankreal', 'trade',\n",
       "       'busservice', 'othservice', 'missind', 'ownership'],\n",
       "      dtype='object')"
      ]
     },
     "execution_count": 29,
     "metadata": {},
     "output_type": "execute_result"
    }
   ],
   "source": [
    "data.columns"
   ]
  },
  {
   "cell_type": "code",
   "execution_count": 30,
   "metadata": {},
   "outputs": [],
   "source": [
    "# Your solution to Q3 here"
   ]
  },
  {
   "cell_type": "markdown",
   "metadata": {},
   "source": [
    "3. Compute margin of error, confidence interval, and p-value. Try using both the bootstrapping and the frequentist statistical approaches."
   ]
  },
  {
   "cell_type": "code",
   "execution_count": 31,
   "metadata": {},
   "outputs": [
    {
     "name": "stdout",
     "output_type": "stream",
     "text": [
      "Callback ratio for white-sounding-name resumes: 0.09650924024640657\n",
      "Callback ratio for black_sounding_name resumes: 0.06447638603696099\n"
     ]
    }
   ],
   "source": [
    "# Total number of callbacks for 2 groups\n",
    "wc = sum(data[data.race=='w'].call)\n",
    "bc = sum(data[data.race=='b'].call)\n",
    "\n",
    "# Total number of 2 groups\n",
    "df_w = data[data.race=='w']\n",
    "df_b = data[data.race=='b']\n",
    "\n",
    "# Ratio of callbacks for 2 groups\n",
    "ratio_w = wc/len(df_w)\n",
    "ratio_b = bc/len(df_b)\n",
    "print('Callback ratio for white-sounding-name resumes:', ratio_w)\n",
    "print('Callback ratio for black_sounding_name resumes:', ratio_b)"
   ]
  },
  {
   "cell_type": "markdown",
   "metadata": {},
   "source": [
    "Based on the ratio calculation above, white-sounding-name resumes receive 9.65% callbacks, more than black-sounding-name resumes of 6.45%."
   ]
  },
  {
   "cell_type": "code",
   "execution_count": 32,
   "metadata": {
    "scrolled": true
   },
   "outputs": [
    {
     "name": "stdout",
     "output_type": "stream",
     "text": [
      "Observed difference in proportions: \t 0.032032854209445585\n",
      "\n",
      "z-stat: \t 4.108412152434346\n",
      "p-value: \t 3.983886837577444e-05\n",
      "95% confidence interval: \t 0.016777447859559147 - 0.047288260559332024\n",
      "Margin of error: \t +/-0.015255406349886438\n"
     ]
    }
   ],
   "source": [
    "# Frequentis Approach\n",
    "# aggregate values\n",
    "r = np.sum(data.call)\n",
    "n = len(data)\n",
    "p = r/n\n",
    "\n",
    "w = data[data.race == 'w']\n",
    "b = data[data.race == 'b']\n",
    "\n",
    "# white-sounding names\n",
    "w_r = np.sum(w.call)\n",
    "w_n = len(w)\n",
    "w_p = (w_r / w_n)\n",
    "\n",
    "\n",
    "# black-sounding names\n",
    "b_r = np.sum(b.call)\n",
    "b_n = len(b)\n",
    "b_p = (b_r / b_n)\n",
    "\n",
    "\n",
    "def ztest_proportions_two_samples(r1, n1, r2, n2, one_sided=False):\n",
    "    \"\"\"Returns the z-statistic and p-value for a 2-sample Z-test of proportions\"\"\"\n",
    "    p1 = r1/n1\n",
    "    p2 = r2/n2\n",
    "    \n",
    "    p = (r1+r2)/(n1+n2)\n",
    "    se = np.sqrt(p*(1-p)*(1/n1+1/n2))\n",
    "    \n",
    "    z = (p1-p2)/se\n",
    "    p = 1-stats.norm.cdf(abs(z))\n",
    "    p *= 2-one_sided\n",
    "    return z, p\n",
    "\n",
    "# 95% confidence interval\n",
    "prop_diff = w_p - b_p\n",
    "print('Observed difference in proportions: \\t {}\\n'.format(prop_diff))\n",
    "\n",
    "z_crit = 1.96\n",
    "p_hat1 = w_p*(1-w_p)/w_n\n",
    "p_hat2 =  b_p*(1-b_p)/b_n\n",
    "ci_high = prop_diff + z_crit*(np.sqrt(p_hat1 + p_hat2))\n",
    "ci_low = prop_diff - z_crit*(np.sqrt(p_hat1 + p_hat2))\n",
    "\n",
    "z_stat, p_val = ztest_proportions_two_samples(w_r, w_n, b_r, b_n)\n",
    "print('z-stat: \\t {}\\np-value: \\t {}'.format(z_stat, p_val))\n",
    "\n",
    "print('95% confidence interval: \\t {} - {}'.format(ci_low, ci_high))\n",
    "moe = (ci_high - ci_low)/2\n",
    "print('Margin of error: \\t +/-{}'.format(moe))"
   ]
  },
  {
   "cell_type": "code",
   "execution_count": 36,
   "metadata": {},
   "outputs": [
    {
     "name": "stdout",
     "output_type": "stream",
     "text": [
      "obs diff: 0.032032854209445585\n",
      "\n",
      "BOOTSTRAP RESULTS\n",
      "p-value: 0.0\n",
      "95% conf. int.: [-0.01519507  0.01560575]\n"
     ]
    }
   ],
   "source": [
    "# Construct arrays of data: white-sounding names, black-sounding names\n",
    "all_callbacks = np.array([True] * int(r) + [False] * int(n-r))\n",
    "\n",
    "size = 10000\n",
    "\n",
    "bs_reps_diff = np.empty(size)\n",
    "\n",
    "for i in range(size):\n",
    "    w_bs_replicates = np.sum(np.random.choice(all_callbacks, size=w_n))\n",
    "    b_bs_replicates = np.sum(np.random.choice(all_callbacks, size=b_n))\n",
    "    \n",
    "    bs_reps_diff[i] = (w_bs_replicates - b_bs_replicates)/b_n\n",
    "    \n",
    "bs_p_value = np.sum(bs_reps_diff >= prop_diff) / len(bs_reps_diff)\n",
    "\n",
    "bs_ci = np.percentile(bs_reps_diff, [2.5, 97.5])\n",
    "bs_mean_diff = np.mean(bs_reps_diff)\n",
    "\n",
    "print('obs diff: {}\\n'.format(prop_diff))\n",
    "print('BOOTSTRAP RESULTS\\np-value: {}\\n95% conf. int.: {}'.format(bs_p_value, bs_ci))"
   ]
  },
  {
   "cell_type": "code",
   "execution_count": 40,
   "metadata": {
    "scrolled": true
   },
   "outputs": [
    {
     "data": {
      "image/png": "[encoded data removed]",
      "text/plain": [
       "<Figure size 432x288 with 1 Axes>"
      ]
     },
     "metadata": {
      "needs_background": "light"
     },
     "output_type": "display_data"
    }
   ],
   "source": [
    "import matplotlib.pyplot as plt\n",
    "_ = plt.hist(bs_reps_diff, bins=20)\n",
    "_ = plt.axvline(prop_diff, color='red')\n",
    "_ = plt.axvline(np.max(bs_reps_diff), color='blue')\n",
    "_ = plt.xlabel('% Diff')\n",
    "_ = plt.ylabel('Frequency')\n",
    "_ = plt.title('Fig 3.2: Empirical v Bootstrap Proportional Differences')\n",
    "_ = plt.text(-0.0275, 1300, 'Observed Diff: +{:0.5}% WSNs\\n\\nHighest BS Diff: +{:0.5}% WSNs'.format(prop_diff*100, np.max(bs_reps_diff)*100))\n",
    "\n",
    "plt.show()"
   ]
  },
  {
   "cell_type": "markdown",
   "metadata": {},
   "source": [
    "<div class=\"span5 alert alert-success\">\n",
    "<p> Your answers to Q4 and Q5 here </p>\n",
    "</div>\n",
    "4. Write a story describing the statistical significance in the context or the original problem.\n",
    "<br>5. Does your analysis mean that race/name is the most important factor in callback success? Why or why not? If not, how would you amend your analysis?"
   ]
  },
  {
   "cell_type": "markdown",
   "metadata": {
    "collapsed": true
   },
   "source": [
    "The p-value of both methods above are below 0.05, therefore $H_0$ should be rejected. We conclude that race has an impact on the callback ratio. Based on our calculation at Question 3, the callback ratio for resumes with white-sounding names are higher than that with black-sounding names. However, it doesn't mean race/name is the most important factor in callback success, as there are other variables in the dataset that may have an impact, such as education, experience etc. If we want to determine if race/name is the most important factor, we need to make sure we use the same set of resumes with white and black-sounding names. Other factors could also play a role, such as the position applicants applied for, location or company size. We need to take those into consideration as well in the analysis."
   ]
  },
  {
   "cell_type": "code",
   "execution_count": null,
   "metadata": {},
   "outputs": [],
   "source": []
  }
 ],
 "metadata": {
  "kernelspec": {
   "display_name": "Python 3",
   "language": "python",
   "name": "python3"
  },
  "language_info": {
   "codemirror_mode": {
    "name": "ipython",
    "version": 3
   },
   "file_extension": ".py",
   "mimetype": "text/x-python",
   "name": "python",
   "nbconvert_exporter": "python",
   "pygments_lexer": "ipython3",
   "version": "3.7.3"
  }
 },
 "nbformat": 4,
 "nbformat_minor": 1
}
